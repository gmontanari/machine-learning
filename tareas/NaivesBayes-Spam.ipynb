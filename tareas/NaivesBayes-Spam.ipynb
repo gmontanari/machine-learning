{
 "cells": [
  {
   "cell_type": "markdown",
   "metadata": {},
   "source": [
    "<img src=\"images/logoitam.gif\">\n",
    "\n",
    "# Maestría en Ciencia de Datos\n",
    "## Filtro de Spam | Bayes Ingenuo Contínuo\n",
    "* Machine Learning | Tarea 02 | 25 de agosto de 2016 |\n",
    "* Alumna: Gabriela Flores Bracamontes |  Clave: 160124 |\n",
    "\n",
    "### Objetivo:\n",
    "Obtener un método de clasificación utilizando Bayes Ingenuo Contínuo que nos permita determinar si un correo es spam o no.\n",
    "\n",
    "### Descripción de los datos:\n",
    "- La base de datos de Spam del repositorio de Aprendizaje Máquina de la UCI en  la siguiente ruta:\n",
    "+ https://archive.ics.uci.edu/ml/datasets/Spambase\n",
    "\n",
    "``` shell\n",
    "- Ánálisis de los datos\n",
    "+ Número de instancias: 4601\n",
    "+ 58 atributos:\n",
    "    * 48 continuous real [0,100] de frecuencia de palabras\n",
    "    * 6 continuous real [0,100] de frecuencia de caracteres\n",
    "    * 1 continuous real [1,...]\n",
    "    * 1 continuous integer [1,...]\n",
    "    * 1 continuous integer [1,...]\n",
    "    * 1 nominal {0,1}, 1 si es spam, 0 si no lo es.\n",
    "+ Datos faltantes en los datos.\n",
    "```\n",
    "\n",
    "### Bibliografía\n",
    "- http://radimrehurek.com/data_science_python/\n",
    "- http://machinelearningmastery.com/naive-bayes-classifier-scratch-python/"
   ]
  }
 ],
 "metadata": {
  "kernelspec": {
   "display_name": "Python [Root]",
   "language": "python",
   "name": "Python [Root]"
  },
  "language_info": {
   "codemirror_mode": {
    "name": "ipython",
    "version": 3
   },
   "file_extension": ".py",
   "mimetype": "text/x-python",
   "name": "python",
   "nbconvert_exporter": "python",
   "pygments_lexer": "ipython3",
   "version": "3.5.2"
  }
 },
 "nbformat": 4,
 "nbformat_minor": 0
}
