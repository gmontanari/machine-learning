{
 "cells": [
  {
   "cell_type": "markdown",
   "metadata": {},
   "source": [
    "<img src=\"images/logoitam.gif\">\n",
    "\n",
    "# Maestría en Ciencia de Datos\n",
    "## Filtro de Spam | Bayes Ingenuo Contínuo\n",
    "* Machine Learning | Tarea 02 | 25 de agosto de 2016 |\n",
    "* Alumna: Gabriela Flores Bracamontes |  Clave: 160124 |"
   ]
  }
 ],
 "metadata": {
  "anaconda-cloud": {},
  "kernelspec": {
   "display_name": "Python [Root]",
   "language": "python",
   "name": "Python [Root]"
  },
  "language_info": {
   "codemirror_mode": {
    "name": "ipython",
    "version": 3
   },
   "file_extension": ".py",
   "mimetype": "text/x-python",
   "name": "python",
   "nbconvert_exporter": "python",
   "pygments_lexer": "ipython3",
   "version": "3.5.2"
  }
 },
 "nbformat": 4,
 "nbformat_minor": 0
}
